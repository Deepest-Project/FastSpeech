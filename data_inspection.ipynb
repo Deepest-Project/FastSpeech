{
 "cells": [
  {
   "cell_type": "code",
   "execution_count": null,
   "metadata": {
    "ExecuteTime": {
     "end_time": "2020-01-07T08:42:08.097687Z",
     "start_time": "2020-01-07T08:42:05.681005Z"
    },
    "code_folding": []
   },
   "outputs": [],
   "source": [
    "import random\n",
    "import hparams\n",
    "import torch\n",
    "import os\n",
    "import pickle as pkl\n",
    "import matplotlib.pyplot as plt\n",
    "%matplotlib inline\n",
    "\n",
    "\n",
    "targets = []\n",
    "alignments = []\n",
    "\n",
    "for file in os.listdir(f'{hparams.teacher_dir}/targets'):\n",
    "    file_name = file[:-4]\n",
    "\n",
    "    with open(f'{hparams.teacher_dir}/targets/{file_name}.pkl', 'rb') as f:\n",
    "        targets.append( (file_name, pkl.load(f)) )\n",
    "    with open(f'{hparams.teacher_dir}/alignments/{file_name}.pkl', 'rb') as f:\n",
    "        alignments.append( (file_name, pkl.load(f)) )"
   ]
  },
  {
   "cell_type": "code",
   "execution_count": null,
   "metadata": {
    "ExecuteTime": {
     "end_time": "2020-01-07T08:42:39.457484Z",
     "start_time": "2020-01-07T08:42:08.099257Z"
    }
   },
   "outputs": [],
   "source": [
    "idx = random.choice(range(len(alignments)))\n",
    "\n",
    "print(f'{targets[idx][0]}')\n",
    "fig, axes = plt.subplots(2, 1, figsize=(16,8))\n",
    "axes[0].imshow(targets[idx][1].numpy(),\n",
    "               origin='lower',\n",
    "               aspect='auto')\n",
    "axes[1].imshow(alignments[idx][1].numpy().T,\n",
    "               origin='lower',\n",
    "               aspect='auto')\n",
    "plt.show()"
   ]
  }
 ],
 "metadata": {
  "kernelspec": {
   "display_name": "Python [conda env:LYH]",
   "language": "python",
   "name": "conda-env-LYH-py"
  },
  "language_info": {
   "codemirror_mode": {
    "name": "ipython",
    "version": 3
   },
   "file_extension": ".py",
   "mimetype": "text/x-python",
   "name": "python",
   "nbconvert_exporter": "python",
   "pygments_lexer": "ipython3",
   "version": "3.7.5"
  },
  "varInspector": {
   "cols": {
    "lenName": 16,
    "lenType": 16,
    "lenVar": 40
   },
   "kernels_config": {
    "python": {
     "delete_cmd_postfix": "",
     "delete_cmd_prefix": "del ",
     "library": "var_list.py",
     "varRefreshCmd": "print(var_dic_list())"
    },
    "r": {
     "delete_cmd_postfix": ") ",
     "delete_cmd_prefix": "rm(",
     "library": "var_list.r",
     "varRefreshCmd": "cat(var_dic_list()) "
    }
   },
   "types_to_exclude": [
    "module",
    "function",
    "builtin_function_or_method",
    "instance",
    "_Feature"
   ],
   "window_display": false
  }
 },
 "nbformat": 4,
 "nbformat_minor": 2
}
