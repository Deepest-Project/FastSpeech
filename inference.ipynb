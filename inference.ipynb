{
 "cells": [
  {
   "cell_type": "markdown",
   "metadata": {},
   "source": [
    "# Import libraries and setup matplotlib"
   ]
  },
  {
   "cell_type": "code",
   "execution_count": null,
   "metadata": {
    "ExecuteTime": {
     "end_time": "2020-01-09T06:05:50.543482Z",
     "start_time": "2020-01-09T06:05:48.960353Z"
    }
   },
   "outputs": [],
   "source": [
    "import os\n",
    "os.environ[\"CUDA_VISIBLE_DEVICES\"] = '2'\n",
    "\n",
    "import warnings\n",
    "warnings.filterwarnings(\"ignore\")\n",
    "\n",
    "import sys\n",
    "sys.path.append('waveglow/')\n",
    "\n",
    "import matplotlib.pyplot as plt\n",
    "%matplotlib inline\n",
    "\n",
    "import IPython.display as ipd\n",
    "import pickle as pkl\n",
    "from text import *\n",
    "import numpy as np\n",
    "import torch\n",
    "import hparams\n",
    "from model import Model\n",
    "from denoiser import Denoiser"
   ]
  },
  {
   "cell_type": "markdown",
   "metadata": {},
   "source": [
    "# Load model from checkpoint"
   ]
  },
  {
   "cell_type": "markdown",
   "metadata": {},
   "source": [
    "### 1. TTS model"
   ]
  },
  {
   "cell_type": "code",
   "execution_count": null,
   "metadata": {
    "ExecuteTime": {
     "end_time": "2020-01-09T06:05:54.344595Z",
     "start_time": "2020-01-09T06:05:50.545049Z"
    }
   },
   "outputs": [],
   "source": [
    "checkpoint_path = \"training_log/fastspeech/checkpoint_100000\"\n",
    "\n",
    "model = Model(hparams).cuda()\n",
    "model.load_state_dict(torch.load(checkpoint_path)['state_dict'])\n",
    "_ = model.cuda().eval()"
   ]
  },
  {
   "cell_type": "markdown",
   "metadata": {},
   "source": [
    "### 2. WaveGlow"
   ]
  },
  {
   "cell_type": "code",
   "execution_count": null,
   "metadata": {},
   "outputs": [],
   "source": [
    "waveglow_path = 'training_log/waveglow_256channels.pt'\n",
    "waveglow = torch.load(waveglow_path)['model']\n",
    "\n",
    "for m in waveglow.modules():\n",
    "    if 'Conv' in str(type(m)):\n",
    "        setattr(m, 'padding_mode', 'zeros')\n",
    "        \n",
    "waveglow.cuda().eval()\n",
    "for k in waveglow.convinv:\n",
    "    k.float()\n",
    "denoiser = Denoiser(waveglow)"
   ]
  },
  {
   "cell_type": "markdown",
   "metadata": {},
   "source": [
    "# Speech Synthesis"
   ]
  },
  {
   "cell_type": "code",
   "execution_count": null,
   "metadata": {
    "ExecuteTime": {
     "end_time": "2020-01-09T06:05:56.203079Z",
     "start_time": "2020-01-09T06:05:54.360010Z"
    },
    "scrolled": false
   },
   "outputs": [],
   "source": [
    "with open('filelists/ljs_audio_text_val_filelist.txt', 'r') as f:\n",
    "    lines = [line.split('|') for line in f.read().splitlines()]\n",
    "\n",
    "file_name, _, text = lines[1]\n",
    "sequence = np.array(text_to_sequence(text, ['english_cleaners']))[None, :]\n",
    "sequence = torch.autograd.Variable(torch.from_numpy(sequence)).cuda().long()"
   ]
  },
  {
   "cell_type": "code",
   "execution_count": null,
   "metadata": {
    "scrolled": false
   },
   "outputs": [],
   "source": [
    "print(f\"Script:\\n{text}\\n\")\n",
    "for alpha in [0.8, 0.9, 1.0, 1.1, 1.2]:\n",
    "    with torch.no_grad():\n",
    "        melspec, durations = model.inference(sequence, alpha)\n",
    "        melspec = torch.log(10**(melspec / 10))\n",
    "        audio = waveglow.infer(melspec, sigma=0.666)\n",
    "\n",
    "    print(f\"alpha: {alpha}\")\n",
    "    ipd.display(ipd.Audio(audio.cpu().numpy(), rate=hparams.sampling_rate))\n",
    "    \n",
    "    if alpha==1.0:\n",
    "        ticks=[]\n",
    "        phoneme = sequence_to_text(sequence[0].tolist())\n",
    "        duration = torch.round(durations[0]).tolist()\n",
    "        for i, d in enumerate(duration):\n",
    "            ticks.extend([phoneme[i]]*int(d))\n",
    "\n",
    "        plt.figure(figsize=(20,5))\n",
    "        plt.imshow(melspec.detach().cpu()[0], aspect='auto', origin='lower')\n",
    "        plt.xticks(range(melspec.size(2)), ticks)\n",
    "\n",
    "        plt.figure(figsize=(15,60))\n",
    "        plt.imshow(melspec.detach().cpu()[0].t(), aspect='auto')\n",
    "        plt.yticks(range(melspec.size(2)), ticks)\n",
    "        \n",
    "print()\n",
    "print(\"Sequence:\")\n",
    "print( [ c for c in sequence_to_text(sequence[0].tolist())] )\n",
    "print()\n",
    "print(\"Vowel:\")\n",
    "print( [ c for c in sequence_to_text(sequence[0].tolist())\n",
    "        if c[-1] in [' ', ',', '0', '1', '2'] ] )\n",
    "plt.show()"
   ]
  },
  {
   "cell_type": "markdown",
   "metadata": {},
   "source": [
    "# Duration"
   ]
  },
  {
   "cell_type": "code",
   "execution_count": null,
   "metadata": {
    "ExecuteTime": {
     "end_time": "2020-01-09T06:06:00.211360Z",
     "start_time": "2020-01-09T06:06:00.203190Z"
    }
   },
   "outputs": [],
   "source": [
    "print(f'Ratio:\\t{melspec.size(2) / sequence.size(1):.2f}')\n",
    "print()\n",
    "for c, d in zip(sequence_to_text(sequence[0].tolist()), durations[0].tolist()):\n",
    "    print(f'{c}:\\t{d:.2f}')"
   ]
  }
 ],
 "metadata": {
  "kernelspec": {
   "display_name": "Python 3",
   "language": "python",
   "name": "python3"
  },
  "language_info": {
   "codemirror_mode": {
    "name": "ipython",
    "version": 3
   },
   "file_extension": ".py",
   "mimetype": "text/x-python",
   "name": "python",
   "nbconvert_exporter": "python",
   "pygments_lexer": "ipython3",
   "version": "3.7.5"
  },
  "varInspector": {
   "cols": {
    "lenName": 16,
    "lenType": 16,
    "lenVar": 40
   },
   "kernels_config": {
    "python": {
     "delete_cmd_postfix": "",
     "delete_cmd_prefix": "del ",
     "library": "var_list.py",
     "varRefreshCmd": "print(var_dic_list())"
    },
    "r": {
     "delete_cmd_postfix": ") ",
     "delete_cmd_prefix": "rm(",
     "library": "var_list.r",
     "varRefreshCmd": "cat(var_dic_list()) "
    }
   },
   "types_to_exclude": [
    "module",
    "function",
    "builtin_function_or_method",
    "instance",
    "_Feature"
   ],
   "window_display": false
  }
 },
 "nbformat": 4,
 "nbformat_minor": 2
}
